{
 "cells": [
  {
   "cell_type": "code",
   "execution_count": 1,
   "id": "broke-penalty",
   "metadata": {},
   "outputs": [],
   "source": [
    "from praveen_summary import Summary"
   ]
  },
  {
   "cell_type": "code",
   "execution_count": 2,
   "id": "graduate-priority",
   "metadata": {},
   "outputs": [],
   "source": [
    "summary = Summary()"
   ]
  },
  {
   "cell_type": "code",
   "execution_count": 44,
   "id": "frozen-savannah",
   "metadata": {},
   "outputs": [],
   "source": [
    "text = (\"Search is the base of many applications. Once data starts to pile up, users want to be able to find it. It’s the foundation \"\n",
    "       \"of the internet and an ever-growing challenge that is never solved or done. The field of Natural Language Processing (NLP) is \"\n",
    "       \"rapidly evolving with a number of new developments. Large-scale general language models are an exciting new capability \"\n",
    "       \"allowing us to add amazing functionality quickly with limited compute and people. Innovation continues with new models \"\n",
    "       \"and advancements coming in at what seems a weekly basis. This article introduces txtai, an AI-powered search engine \"\n",
    "       \"that enables Natural Language Understanding (NLU) based search in any application.\"\n",
    ")"
   ]
  },
  {
   "cell_type": "code",
   "execution_count": null,
   "id": "peripheral-concert",
   "metadata": {},
   "outputs": [],
   "source": []
  },
  {
   "cell_type": "code",
   "execution_count": 45,
   "id": "lined-employer",
   "metadata": {},
   "outputs": [
    {
     "data": {
      "text/plain": [
       "686"
      ]
     },
     "execution_count": 45,
     "metadata": {},
     "output_type": "execute_result"
    }
   ],
   "source": [
    "len(text)"
   ]
  },
  {
   "cell_type": "code",
   "execution_count": 46,
   "id": "trying-milwaukee",
   "metadata": {},
   "outputs": [],
   "source": [
    "a=text[:100]"
   ]
  },
  {
   "cell_type": "code",
   "execution_count": 47,
   "id": "improved-bankruptcy",
   "metadata": {},
   "outputs": [
    {
     "data": {
      "text/plain": [
       "'Search is the base of many applications. Once data starts to pile up, users want to be able to find '"
      ]
     },
     "execution_count": 47,
     "metadata": {},
     "output_type": "execute_result"
    }
   ],
   "source": [
    "a"
   ]
  },
  {
   "cell_type": "code",
   "execution_count": 48,
   "id": "fluid-entity",
   "metadata": {},
   "outputs": [
    {
     "data": {
      "text/plain": [
       "'The field of Natural Language Processing (NLP) is rapidly evolving with a number of new developments. Large-scale general language models are an exciting new capability allowing us to add amazing functionality quickly with limited compute and people. This article introduces'"
      ]
     },
     "execution_count": 48,
     "metadata": {},
     "output_type": "execute_result"
    }
   ],
   "source": [
    "summary(text, maxlength=50)"
   ]
  },
  {
   "cell_type": "code",
   "execution_count": 25,
   "id": "portuguese-showcase",
   "metadata": {},
   "outputs": [],
   "source": [
    "t2=(\"Optum Engineer Search Onboarding | Tech Hub Insights Skip to main content Tech Hub InsightsDocsReleasesDashboardsFAQGitHub🌙 ☀️ Tech Hub Insights Docs Releases Dashboards FAQ GitHub Insights & Analytics Introduction Insights Products Insights Data Insights Data Introduction Insights Searchify Integration with Searchify Searchify Introduction Searchify Architecture Searchify Content Integration Searchify Content Model Pepto Decommission Insights Graph Container Platforms Graph Graph Environment Overview Network Graph PRM RBAC Insights VM Graph Model Searchify Content Graph Ranking Graph Model Ratings Graph Model Insights Reporting Insights Reporting Introduction Kibana Kibana Information Accessing Spaces Modify Dashboards Executive Reports Automation Platform Metrics Insights Recommend Insights Recommend Introduction Recommend API Insights Optimize Insights Optimize Introduction Insights Customer Analytics Insights Customer Analytics Onboarding API Log Ingestion Onboarding Dashboard Insights Searchify Product Content Ingestion Technical Info Infrastructure Insights Overview Insights Endpoints Insights API Insights Elastic Insights Kafka Insights Monitoring Insights Data Flow Discovery Service Search As you Type Data Flow Github Content Data Architecture Kubernetes Dataflow Openshift Dataflow Network Dataflow VM Dataflow Clickstreams Proposed Tech Hub(Devops) Tech Hub(Devops) Optum Engineering Clickstream Data Experience Clickstream Design Docs Pinned Entity Design Document User Profiles Roadmap Roadmap 2020 Roadmap 2021 Goals and Objectives 2021 FAQ FAQ Change Compliance Help Help Optum Engineer Search Onboarding Do I need Insights Searchify onboarding? If you want your Micro Site indexed to be searched from Optum Engineer, then this is the right place! Click here to get started on creating a Micro Site, or read the docs here for more information What documentation frameworks are compatible? Currently supported: Docusaurus (both v1 and v2), MkDocs, and plain Markdown are supported Future support: Jekyll Additional formats will be added based on OE adoption Preliminary steps Verify that you are only managing one source of truth for your Micro Site on your main branch (usually master by default) Getting Started Step 1 Fork Repo Fork this repo (Insights Searchify) and create a YAML file metadata under the content_metadata/oe directory. Name it using this convention for consistency: org-name-repo-name.yaml Example YAML file: schemaVersion: searchify/v1 name: Micro-Site Docs repo_url: https://github.optum.com/tto/microsite-docs.git type: mkdocs owner: Tumo channel: - oe tags: - docs - micro-site vanity_url: https://microsite-docs.optum.com description: This is the page for anything and everything for Micro Sites, a new way to build and maintain documentation whitelist: - /docs/ - /docs/index.md blacklist: - /docs/secret/passwords.md - /docs/dont_want_this_folder_indexed/ (Note, these values are examples and you should not use the default name, owner, tags, etc. for yours) What do these values mean? Value name Description Required? schemaVersion Specifies your API version for the registry, currently this documentation is based on searchify/v1 Yes name Refers to your organization or team's name. This will be displayed on Optum Engineer, so use a readable and recognizable name Yes repo_url Refers to your GitHub repository URL, including .git at the end (i.e. https://github.optum.com/tto/optumengineer-docs.git ) Yes type The documentation framework you used to get your content setup. Available options currently include mkdocs, docusaurus (v1 or v2), plain_github Yes owner A point of contact that can be reached out to for this yaml schema. Not used for displaying anything. Yes channel The medium that the Micro-Site will be searchable under, either on Optum Engineer by setting oe or on Tech Hub by setting techhub or both! Yes tags Metadata tags used to describe your Micro-Site (i.e. ai or ml for a site related to artificial intelligence or machine learning) No vanity_url If you have a vanity URL setup, read this page for more info No description Summary of your Micro-Site Yes whitelist An optional list of locations in your documentation that you want to include as part of the search index No blacklist An optional list of locations that will not be included as part of the search index, takes priority over whitelist No Step 2 Submit PR Submit a pull request against the Insights Searchify repository's master branch and our reviewers will be automatically requested for review. More conversation will happen within that pull request, and if any changes are requested, they must be addressed before we can accept your site. Step 3 Install Tumo Bot Setup Tumo Bot (for the searchify service to keep track of your documentation changes) Navigate to Tumo Bot Click on Install Select your username or an organization where the repository you want to add is located Select Only select repositories, search for and choose the ones to add Click Install Tumo Bot will now have access to see the documentation and future updates so the content can be updated in Optum Engineer For any help, questions, or feedback regarding Search Onboarding, please reach out to Ashish Jayan or Julianna Ruggiero! Previous « Onboarding to Tech Hub Dashboard Next Tech Hub Product Onboarding » Preliminary steps Getting Started Step 1 Fork Repo Step 2 Submit PR Step 3 Install Tumo Bot Experiences Product Catalog Product APIs Insights Dashboards techctl Community Support Channel Feature Requests GitHub Learn More Automation Platform Strategy Platform Resource Manager Tech Hub web Experience Automation Enablement & Governance Copyright © 2021 Optum\")"
   ]
  },
  {
   "cell_type": "code",
   "execution_count": 26,
   "id": "grand-vegetation",
   "metadata": {},
   "outputs": [
    {
     "data": {
      "text/plain": [
       "5692"
      ]
     },
     "execution_count": 26,
     "metadata": {},
     "output_type": "execute_result"
    }
   ],
   "source": [
    "len(t2)"
   ]
  },
  {
   "cell_type": "code",
   "execution_count": 27,
   "id": "honey-scoop",
   "metadata": {},
   "outputs": [],
   "source": [
    "a=t2[:4500]"
   ]
  },
  {
   "cell_type": "code",
   "execution_count": 28,
   "id": "local-visiting",
   "metadata": {},
   "outputs": [
    {
     "data": {
      "text/plain": [
       "'Optum Engineer Search Onboarding | Tech Hub InsightsDocsReleasesDashboards FAQ. Get started on creating a Micro Site, or read the docs here for more information. Docusaurus (both v1 and v2), MkDocs, and plain Markdown are supported.'"
      ]
     },
     "execution_count": 28,
     "metadata": {},
     "output_type": "execute_result"
    }
   ],
   "source": [
    "summary(a, maxlength=500)"
   ]
  },
  {
   "cell_type": "code",
   "execution_count": null,
   "id": "therapeutic-valuable",
   "metadata": {},
   "outputs": [],
   "source": [
    "summary(t2, maxlength=50)"
   ]
  },
  {
   "cell_type": "code",
   "execution_count": 29,
   "id": "opening-disposition",
   "metadata": {},
   "outputs": [],
   "source": [
    "k='GitHub - CommercialCloud-Redbox-AWS/sanwar20 Skip to content Explore Explore GitHub → Learn & contribute Topics Trending Learning Lab Open source guides Connect with others Events Community forum GitHub Education In this repository All GitHub Enterprise ↵ Jump to ↵ No suggested jump to results In this repository All GitHub Enterprise ↵ Jump to ↵ In this repository All GitHub Enterprise ↵ Jump to ↵ Sign in CommercialCloud-Redbox-AWS / sanwar20 Watch 0 Star 0 Fork 0 Code Issues 0 Pull requests 0 Projects 0 Insights No description, website, or topics provided. 1 commit 1 branch 0 releases 0 contributors Shell HCL Shell 54.0% HCL 46.0% Branch: master New pull request Find file Clone or download Clone with HTTPS Use Git or checkout with SVN using the web URL. Open in Desktop Download ZIP Downloading Want to be notified of new releases in CommercialCloud-Redbox-AWS/sanwar20? Sign in Sign up Launching GitHub Desktop If nothing happens, download GitHub Desktop and try again. Go back Launching GitHub Desktop If nothing happens, download GitHub Desktop and try again. Go back Launching Xcode If nothing happens, download Xcode and try again. Go back Launching Visual Studio If nothing happens, download the GitHub extension for Visual Studio and try again. Go back Latest commit CC-Portal-Automation Initial commit, from CommercialCloud-Team/aws_dce_starter@v1.0.3 Latest commit a9e5b51 Apr 13, 2021 Files Permalink Type Name Latest commit message Commit time Failed to load latest commit information. scripts Initial commit, from CommercialCloud-Team/aws_dce_starter@v1.0.3 Apr 12, 2021 terraform Initial commit, from CommercialCloud-Team/aws_dce_starter@v1.0.3 Apr 12, 2021 .gitignore Initial commit, from CommercialCloud-Team/aws_dce_starter@v1.0.3 Apr 12, 2021 CHANGELOG.md Initial commit, from CommercialCloud-Team/aws_dce_starter@v1.0.3 Apr 12, 2021 Jenkinsfile Initial commit, from CommercialCloud-Team/aws_dce_starter@v1.0.3 Apr 12, 2021 README.md Initial commit, from CommercialCloud-Team/aws_dce_starter@v1.0.3 Apr 12, 2021 README.md Disposable Cloud Environment: AWS What is DCE? Why should I care about DCE? What comes with my DCE Account? DCE is Open Source! How to access your AWS DCE account What\\'s this repo all about? Terraform module Your Jenkins Pipeline Deploying Terraform from your local machine A note about Terraform state Need Help? Common Errors Get in touch! What is DCE? Disposable Cloud Environment (DCE) is your playground in the cloud. With an AWS DCE account, you have a safe environment to experiment with in the cloud. With near-administrative access to your own personal AWS account, you can click around the AWS web console, run AWS CLI commands from your terminal, or run Jenkins pipelines however you want. As a developer, you don\\'t need to worry about cost management, orphaned resources, or lengthy cloud intake processes. Just remember: No PHI/PII, credentials, or sensitive information in your DCE account! Friends don\\'t let friends leak confidential records from managed health care technology companies. Why should I care about DCE? You should totally care about DCE. We have got the features you\\'re looking for in a cloud sandbox environment! Quick access No need for a lengthy cloud intake process. You only need your manager\\'s approval, and you\\'re ready to cloud like a boss. Budget Limits No surprise bills at the end of the month. Once your account hits a weekly spending limit ($200 - $1,000, depending on how much your manager likes you), your account will be automatically wiped clean to stop the bleeding. You\\'ll be kicked off the account until the end of the week, which is a bummer. But it\\'s better than explaining to your boss how you accidentally racked up $20k in cloud spend last month (trust me, I\\'ve been there!) Weekly reset Every Sunday night, your AWS account will be completely wiped clean, so you can get a fresh start on Monday. This limits security risk, cuts off excess spend, and encourages an Infrastructure as Code mentality. This keeps UHG security teams happy, keeps your manager happy, and gives you the space to need to learn, develop, and iterate. What comes with my DCE Account? First off, you get access to your own dedicated AWS account. You have near-administrative access to the account, with a few exceptions: Limited to us-east-1 and us-west-1 You cannot modify your own IAM Role or Policy You cannot create IAM users (use IAM Roles instead!) You cannot create AWS resources which DCE does not know how to destroy at the end of the week You cannot open up support tickets, or request service limit increases Our goal is to keep access as open as possible, while keeping our systems reliable and secure. If you find there are cloud services you would like to use but are unable to use, please reach out and let us know support Beyond the AWS account, we hook you up with a Gitub repo and Jenkins pipeline to give you a head start on exploring Terraform, infrastructure-as-code, and GitOps. See What\\'s this repo all about? for details. DCE is Open Source! github.com/Optum/dce Tell your friends, tell your neighbors -- anyone can contribute! Heck, you could even run DCE against your own personal AWS account, and protect yourself against surprise bills and hidden resources. The core components of AWS DCE are all implemented in open source DCE: account leasing, weekly reset, and budget enforcement. Optum\\'s implementation is a thin wrapper around DCE, with additional integrations for Azure AD, Launchpad, etc. How to access your AWS DCE account There are few different ways to access your AWS DCE account, depending on where you\\'re trying to get to. If you don\\'t yet have a DCE account, see the Request a DCE docs for instructions. AWS Web Console To access the AWS Web console: Login to your DCE dashboard at commercialcloud.optum.com/app Request or create an AWS DCE account, if you haven\\'t already Click on the AWS Account link From your local machine You can generate temporary credentials for your AWS DCE via the command line. The credentials will be stored in your ~/.aws/credentials file. This will allow you to: Run commands from your terminal with the AWS CLI tool Deploy Terraform configurations to your AWS account Execute custom code against your account using the AWS SDKs for python, golang, and several other languages To generate AWS credentials locally: Login to your DCE dashboard at commercialcloud.optum.com/app Request or create an AWS DCE account, if you haven\\'t already Click on the Local Development link Copy the provided commands to your clipboard, using the Copy to Clipboard button Paste the commands into your local terminal or command line Note that you must have the AWS CLI installed to use these credentials. See docs for Installing the AWS CLI. Via Jenkins Jenkins pipelines tied to this Github repo have access to a special withDCE method, which provides just-in-time credentials to your AWS DCE account. For example: node() { // Request credentials for our AWS DCE account. withDCE { // Checkout the latest code from your Github repo checkout scm // Run AWS commands here sh \\'aws s3 ls\\' } } See the DCE Credentials Delivery API for a deep dive into how this method works. What\\'s this repo all about? When you provision an AWS DCE account, you get: A dedicated AWS account A clone of this Github repo A Jenkins pipeline hooked into this repo, with access to your AWS account Terraform module To start out, this Github repo contains a simple terraform module, to configure a Launchpad compliant S3 Bucket. If you\\'re not familiar with Terraform, they have some really high-quality documentation you should check out. Or, if you\\'re the type of developer writes code first and reads documentation later (or never), jump right on ahead to the section on Deploying terraform locally. In short, Terraform is a tool for configuring cloud resources as code. The primary benefits of Terraform are: Configuration as Code Cloud resources can be managed as code in a Github repo, with changes automatically deployed via a CI/CD pipeline (eg. Jenkins). Desired State Deployments You can modify your configuration code, and terraform will detect and deploy the changes (rather than having to redeploy the whole stack). Wiring Together Resources Resources can reference one another in code, allowing you to easily configure large interconnected systems. Automated Dependency Graphs Terraform knows which resources need to be deployed in which order. Your Jenkins Pipeline Whenever you push a commit to this repo, Jenkins will trigger a CI/CD build, based on the configuration you specify in your Jenkinsfile. If you not familiar with Jenkins, they have some documentation you can look through. In short, Jenkins is not much more than a remote-server to execute arbitrary code, that\\'s hooked into your github repo. In practice, we use Jenkins to test, build, and deploy the code in our Github repos. A basic AWS DCE pipeline is made up of just a few steps: // Request a \"node\" or build agent to run our pipeline on node() { // Request credentials for our AWS DCE account. withDCE { // Checkout the latest code from your Github repo checkout scm // Your AWS code goes here. // The easiest way to get started is to run a \"sh\" command // which can run whatever bash code you want sh \\'\\'\\' # For example, we can use the AWS CLI to list buckets in our account # https://docs.aws.amazon.com/cli/latest/reference/s3/ls.html echo \"Check out these bucket!\" aws s3 ls \\'\\'\\' } } For starters, your Jenkinsfile is configured to deploy the terraform module in this repo to your AWS account. Take a minute to look through that Jenkinsfile code, to get an idea for how it works. Your Jenkins pipeline has access to a handful of common tools for building code and interacting with the cloud. If you find there are system tools you\\'re missing, get in touch with us or open a PR against our dce_jenkins_agent repo. Viewing Your Jenkins Builds You can view logs from your Jenkins builds via the Jenkins web console: Login to the DCE web portal Click on the icon for your AWS DCE account Select the master branch (or whatever branch you\\'re working off of) Under Build History (left sidebar), select the latest build number Select Console Output (left sidebar) You can also navigate directly to the Jenkins CommercialCloud-DCE-AWS organization and scroll through the repositories until you find your DCE ID. Deploying Terraform from your local machine This repo includes a Jenkins pipeline to automate terraform deployments. However, you may also want to run terraform from your local machine. This is totally possible with AWS DCE, with just a bit of setup: Make sure you have Terraform installed on your machine (from terraform.io, or via Self Service/App Store) Login to your AWS DCE account Run the following commands from your command-line # Navigate to the terraform directory within this repo cd terraform # Initialize your terraform module terraform init # Deploy your terraform module terraform apply See Terraform documentation for more info about these commands, and about writing Terraform configurations. A note about Terraform state Terraform tracks the current state of all your cloud configuration in a state backend. This state backend does a few things: Allows Terraform to compare the current state of your infrastructure against the desired state Associates terraform resources IDs (eg my_ec2_instance) with the deployed cloud resource IDs (eg i-2354634) Allows multiple people/processes to use terraform to manage the same set of resources By default, Terraform stores state in a local file on your machine. This is great for local development, but not for Jenkins pipelines, where the file system is wiped clean with every build. To work around this, the Jenkinsfile in this repo will create a state backend on S3 if one doesn\\'t already exist. This means that by default, Jenkins is not using the same state backend as you are on your local machine. So, for example, if you try to run terraform apply locally after Jenkins has already run, you\\'ll get back a ResourceAlreadyExists error. This is because your local terraform doesn\\'t know that the S3 bucket you\\'re trying to manage is the same S3 bucket that Jenkins has already deployed with Terraform. To solve this problem, you need to use the same backend configuration as Jenkins: View your latest Jenkins build At the bottom of the build logs, you should see something like: This Jenkins pipeline is storing state in an S3 bucket. You can point your local environment at the same S3 state bucket in order to manage the same set of resources, running terraform locally. Copy the following contents into /terraform/backend.tf terraform { backend \"s3\" { bucket = \"345185844623-dce-tfstate\" region = \"us-east-1\" key = \"dce.tfstate\" } } Do what it says, and copy that terraform configuration into /terraform/backend.tf Run terraform locally as usual from your local machine Need Help? Don\\'t feel bad -- DevOps is hard! And we could all use a hand from time to time. Common Errors We tried really hard to make your AWS DCE experience as seamless as possible, but errors have a way... Get in touch an let us know what you\\'re seeing! We\\'ll do our best to help you out, and document it in this starter repo so others won\\'t go through the same pain you did. Get in touch! See the DCE product support page to find the best way to get in touch with us. And if you haven\\'t heard, DCE is now powered by the open source DCE (pronounced \"dice\") project! Which means that you (or anyone) can contribute back to the project. github.com/Optum/dce © 2021 GitHub, Inc. Help Support API Training Blog About GitHub Enterprise Server 2.21.3 You can’t perform that action at this time. You signed in with another tab or window. Reload to refresh your session. You signed out in another tab or window. Reload to refresh your session.'"
   ]
  },
  {
   "cell_type": "code",
   "execution_count": 30,
   "id": "continent-fusion",
   "metadata": {},
   "outputs": [
    {
     "data": {
      "text/plain": [
       "13869"
      ]
     },
     "execution_count": 30,
     "metadata": {},
     "output_type": "execute_result"
    }
   ],
   "source": [
    "len(k)"
   ]
  },
  {
   "cell_type": "code",
   "execution_count": 41,
   "id": "registered-maldives",
   "metadata": {},
   "outputs": [],
   "source": [
    "kk=k[:4000]"
   ]
  },
  {
   "cell_type": "code",
   "execution_count": 42,
   "id": "fantastic-lewis",
   "metadata": {},
   "outputs": [
    {
     "data": {
      "text/plain": [
       "4000"
      ]
     },
     "execution_count": 42,
     "metadata": {},
     "output_type": "execute_result"
    }
   ],
   "source": [
    "len(kk)"
   ]
  },
  {
   "cell_type": "code",
   "execution_count": 43,
   "id": "perceived-tunnel",
   "metadata": {},
   "outputs": [
    {
     "data": {
      "text/plain": [
       "'GitHub - CommercialCloud-Redbox-AWS/sanwar20 Watch 0 Star 0 Fork 0 Code Issues 0 Pull requests 0 Projects 0 Insights. Use Git or checkout with SVN using the web URL. Find file Clone or download Clone with HTTPS. Use the GitHub extension for Visual Studio and try again.'"
      ]
     },
     "execution_count": 43,
     "metadata": {},
     "output_type": "execute_result"
    }
   ],
   "source": [
    "summary(kk, maxlength=100)"
   ]
  },
  {
   "cell_type": "code",
   "execution_count": 50,
   "id": "closing-twist",
   "metadata": {},
   "outputs": [],
   "source": [
    "tn=(\"What's the last book you read? Someone rightly said that reading gives us someplace to go when we have to stay where we are! This especially applies to our lives these days when we can't move around as freely as we could earlier. Books and other media have become our windows to the world. Tell us the name of the last book you read and will you recommend it to the readers here. Please feel free to tag people in the comments below to know their book recommendations.\")"
   ]
  },
  {
   "cell_type": "code",
   "execution_count": 51,
   "id": "engaging-occasion",
   "metadata": {},
   "outputs": [
    {
     "data": {
      "text/plain": [
       "'Books and other media have become our windows to the world. Tell us the name of the last book you read and will you recommend it to the readers here. Please feel free to tag people in the comments below to know their book recommendations'"
      ]
     },
     "execution_count": 51,
     "metadata": {},
     "output_type": "execute_result"
    }
   ],
   "source": [
    "summary(tn,maxlength=50)"
   ]
  },
  {
   "cell_type": "code",
   "execution_count": 55,
   "id": "aquatic-maldives",
   "metadata": {},
   "outputs": [],
   "source": [
    "to=(u\"Today we wake up in Minneapolis to another police shooting of a black man and social unrest….right in the middle of the Chauvin trial. I have been following the case since the trial started and it is stressful to hear the stories and attempt to understand what those close to Mr. Floyd are experiencing. I find myself having to take a break from listening, In addition, India is experiencing a surge in COVID cases and a lack of hospital beds. I talked to Ritesh this morning and expressed concern and asked to make sure everyone is doing o.k…We have experienced a lot this past year. These issues are complex and impact each of us differently.My plea - please take care of yourself….we need you.There have been a few posts and HUB articles over the past few weeks highlighting resources available to you if you find yourself needing help. Please use them.\")"
   ]
  },
  {
   "cell_type": "code",
   "execution_count": 58,
   "id": "cultural-harmony",
   "metadata": {},
   "outputs": [
    {
     "data": {
      "text/plain": [
       "'India is experiencing a surge in COVID cases and a lack of hospital beds. R'"
      ]
     },
     "execution_count": 58,
     "metadata": {},
     "output_type": "execute_result"
    }
   ],
   "source": [
    "summary(to,maxlength=20)"
   ]
  },
  {
   "cell_type": "code",
   "execution_count": 59,
   "id": "assisted-removal",
   "metadata": {},
   "outputs": [],
   "source": [
    "l=\"On 4/1/2021, we heard from Kristi Henderson, SVP of the The Center for Digital Health & Innovation for Optum Health share about the shifts in virtual. She highlighted how dynamic and personalized healthcare is for each individual. Optum Health is rethinking the gateway to health through the use of virtual visits. Check out the Optum Virtual Care podcast here. Feel free to share thoughts for discussion.\""
   ]
  },
  {
   "cell_type": "code",
   "execution_count": 61,
   "id": "prescribed-optimum",
   "metadata": {},
   "outputs": [
    {
     "data": {
      "text/plain": [
       "'Optum Health is rethinking the gateway to health through the use of virtual visits.'"
      ]
     },
     "execution_count": 61,
     "metadata": {},
     "output_type": "execute_result"
    }
   ],
   "source": [
    "summary(l,maxlength=20)"
   ]
  },
  {
   "cell_type": "code",
   "execution_count": 62,
   "id": "frozen-millennium",
   "metadata": {},
   "outputs": [],
   "source": [
    "l=\"A topic all of us should be learning more about. This is at the cutting edge of innovation in healthcare - regardless of the population stream you’re involved with, there’s applicability. As with any innovation, we can be simultaneously excited and cautious. (You can create a free account to read up to two articles.)https://www.nejm.org/doi/full/10.1056/NEJMp2033275?rss=searchAndBrowse\"\n"
   ]
  },
  {
   "cell_type": "code",
   "execution_count": 63,
   "id": "transsexual-samoa",
   "metadata": {},
   "outputs": [
    {
     "data": {
      "text/plain": [
       "'This is at the cutting edge of innovation in healthcare - regardless of the population stream you'"
      ]
     },
     "execution_count": 63,
     "metadata": {},
     "output_type": "execute_result"
    }
   ],
   "source": [
    "summary(l,maxlength=20)"
   ]
  },
  {
   "cell_type": "code",
   "execution_count": 64,
   "id": "hairy-norway",
   "metadata": {},
   "outputs": [],
   "source": [
    "l=\"Where do you find healthy baby food recipes? What about tips for making and storing baby food? It's been 5 years since our last so I'm feeling a bit rusty as our new baby moves into trying solids\""
   ]
  },
  {
   "cell_type": "code",
   "execution_count": 67,
   "id": "careful-liver",
   "metadata": {},
   "outputs": [
    {
     "data": {
      "text/plain": [
       "'Where do you find healthy baby food recipes? What about tips for making and storing baby'"
      ]
     },
     "execution_count": 67,
     "metadata": {},
     "output_type": "execute_result"
    }
   ],
   "source": [
    "summary(l,maxlength=20)"
   ]
  },
  {
   "cell_type": "code",
   "execution_count": 68,
   "id": "checked-holiday",
   "metadata": {},
   "outputs": [],
   "source": [
    "l=\"Happy Stress Awareness Month!!!! It is known that pressure, in some circumstances, can help us to perform to a higher level and achieve our goals. When pressure becomes excessive, however, stress occurs. When stress occurs, How do you deal with it? What activities help you get back on track? Share your best practices for a chance to WIN tickets to Columbus Zoo and Aquarium! https://media.tenor.com/images/c05ab8fdac957a8206d197602d833c4c/tenor.gif\""
   ]
  },
  {
   "cell_type": "code",
   "execution_count": 69,
   "id": "cathedral-brook",
   "metadata": {},
   "outputs": [
    {
     "data": {
      "text/plain": [
       "'Share your best practices for a chance to WIN tickets to Columbus Zoo and Aquarium!'"
      ]
     },
     "execution_count": 69,
     "metadata": {},
     "output_type": "execute_result"
    }
   ],
   "source": [
    "summary(l,maxlength=20)"
   ]
  },
  {
   "cell_type": "code",
   "execution_count": 70,
   "id": "parallel-nature",
   "metadata": {},
   "outputs": [],
   "source": [
    "l=\"Maximize Your Meetings and Win! Microsoft Teams meetings just got better. New features like meeting recording, breakout rooms and PowerPoint Live will help you maximize your meetings. With the use of one app, you can stay connected wherever life takes you. Learn how to lead meetings with confidence using the Microsoft Teams Meetings Best Practices Guide and learn how you can win in the Microsoft Giveaway on the Office 365 Info Site. https://uhgazure.sharepoint.com/sites/o365/SitePages/Maximize_Meetings.aspx\""
   ]
  },
  {
   "cell_type": "code",
   "execution_count": 72,
   "id": "north-acceptance",
   "metadata": {},
   "outputs": [
    {
     "data": {
      "text/plain": [
       "'Microsoft Teams Meetings Best Practices Guide'"
      ]
     },
     "execution_count": 72,
     "metadata": {},
     "output_type": "execute_result"
    }
   ],
   "source": [
    "summary(l,maxlength=10)"
   ]
  },
  {
   "cell_type": "code",
   "execution_count": 74,
   "id": "structured-offense",
   "metadata": {},
   "outputs": [
    {
     "ename": "SyntaxError",
     "evalue": "invalid syntax (<ipython-input-74-227a4ea61cd7>, line 1)",
     "output_type": "error",
     "traceback": [
      "\u001b[1;36m  File \u001b[1;32m\"<ipython-input-74-227a4ea61cd7>\"\u001b[1;36m, line \u001b[1;32m1\u001b[0m\n\u001b[1;33m    l='DMX died and a part of me died with him. People keep talking about how no one helped him and all this other stuff but, bottom line, you cant force someone that has been through so much trauma and addiction to do anything. He had so many powerful people in his circle and people tried to help him but those demons got him. It is such a great loss. This man got me through so much as a teenager. Addiction is hard and mental illness combined with it makes it so much harder. As a community, we HAVE to end the stigma of weakness when it comes to mental illness. I blog about this topic (not sure if I can share the blog so I won't). We, as a community, have to do better.Reading charts, I see people that are addicted to drugs. I read their stories of trauma and abuse and sometimes say to myself \"No wonder they're on drugs.\" When you're trying to block things out, self medication seems to be the only way. Especially in a society where you're \"weak\" if you seek help. Going to rehab can be a source of more trauma because you have to acknowledge the trauma that made you feel that drugs were the answer. DMX was trying. His friends were trying. I have to say that I am thankful that we got him for the 50 years that we did. Swizz Beatz said on Instagram that he carried other people's pain. He prayed for thousands of people when he needed prayer himself. He went to jail so that he could be free. I wouldnt wish that kind of pain on anyone. Anyhow, RIP DMX. You did more for this world than you know. https://media.tenor.com/images/0d6d7202445aeaf83b48275d74245f7f/tenor.gif'\u001b[0m\n\u001b[1;37m                                                                                                                                                                                                                                                                                                                                                                                                                                                                                                                                                                                                                                                          ^\u001b[0m\n\u001b[1;31mSyntaxError\u001b[0m\u001b[1;31m:\u001b[0m invalid syntax\n"
     ]
    }
   ],
   "source": [
    "l='DMX died and a part of me died with him. People keep talking about how no one helped him and all this other stuff but, bottom line, you cant force someone that has been through so much trauma and addiction to do anything. He had so many powerful people in his circle and people tried to help him but those demons got him. It is such a great loss. This man got me through so much as a teenager. Addiction is hard and mental illness combined with it makes it so much harder. As a community, we HAVE to end the stigma of weakness when it comes to mental illness. I blog about this topic (not sure if I can share the blog so I won't). We, as a community, have to do better.Reading charts, I see people that are addicted to drugs. I read their stories of trauma and abuse and sometimes say to myself \"No wonder they're on drugs.\" When you're trying to block things out, self medication seems to be the only way. Especially in a society where you're \"weak\" if you seek help. Going to rehab can be a source of more trauma because you have to acknowledge the trauma that made you feel that drugs were the answer. DMX was trying. His friends were trying. I have to say that I am thankful that we got him for the 50 years that we did. Swizz Beatz said on Instagram that he carried other people's pain. He prayed for thousands of people when he needed prayer himself. He went to jail so that he could be free. I wouldnt wish that kind of pain on anyone. Anyhow, RIP DMX. You did more for this world than you know. https://media.tenor.com/images/0d6d7202445aeaf83b48275d74245f7f/tenor.gif'"
   ]
  },
  {
   "cell_type": "code",
   "execution_count": null,
   "id": "criminal-actor",
   "metadata": {},
   "outputs": [],
   "source": []
  }
 ],
 "metadata": {
  "kernelspec": {
   "display_name": "Python 3",
   "language": "python",
   "name": "python3"
  },
  "language_info": {
   "codemirror_mode": {
    "name": "ipython",
    "version": 3
   },
   "file_extension": ".py",
   "mimetype": "text/x-python",
   "name": "python",
   "nbconvert_exporter": "python",
   "pygments_lexer": "ipython3",
   "version": "3.6.8"
  }
 },
 "nbformat": 4,
 "nbformat_minor": 5
}
